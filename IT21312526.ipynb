{
  "cells": [
    {
      "cell_type": "code",
      "source": [
        "from google.colab import drive\n",
        "drive.mount('/content/drive')"
      ],
      "metadata": {
        "colab": {
          "base_uri": "https://localhost:8080/"
        },
        "id": "0cDn0a9D4V7S",
        "outputId": "edbcc99c-91c3-4aaf-b4ad-bb2f877ace2b"
      },
      "id": "0cDn0a9D4V7S",
      "execution_count": 1,
      "outputs": [
        {
          "output_type": "stream",
          "name": "stdout",
          "text": [
            "Mounted at /content/drive\n"
          ]
        }
      ]
    },
    {
      "cell_type": "code",
      "source": [
        "import os\n",
        "import pandas as pd\n",
        "import numpy as np\n",
        "import string\n",
        "import nltk\n",
        "from sklearn.metrics import accuracy_score, classification_report\n",
        "from sklearn.model_selection import KFold\n",
        "from tensorflow.keras.models import Sequential\n",
        "from tensorflow.keras.layers import Dense, Dropout, Embedding, LSTM, GlobalMaxPooling1D\n",
        "from tensorflow.keras.preprocessing.text import Tokenizer\n",
        "from tensorflow.keras.preprocessing.sequence import pad_sequences\n",
        "from tensorflow.keras.optimizers import Adam\n",
        "from tensorflow.keras.callbacks import EarlyStopping, ReduceLROnPlateau\n",
        "from nltk.corpus import stopwords\n",
        "from nltk.stem import WordNetLemmatizer\n",
        "\n",
        "# Download necessary NLTK resources\n",
        "nltk.download('stopwords')\n",
        "nltk.download('punkt')\n",
        "nltk.download('wordnet')"
      ],
      "metadata": {
        "colab": {
          "base_uri": "https://localhost:8080/"
        },
        "id": "jB9nao9kCAH5",
        "outputId": "7c4e826a-a9be-42f4-accc-6cd81506395a"
      },
      "id": "jB9nao9kCAH5",
      "execution_count": 2,
      "outputs": [
        {
          "output_type": "stream",
          "name": "stderr",
          "text": [
            "[nltk_data] Downloading package stopwords to /root/nltk_data...\n",
            "[nltk_data]   Unzipping corpora/stopwords.zip.\n",
            "[nltk_data] Downloading package punkt to /root/nltk_data...\n",
            "[nltk_data]   Unzipping tokenizers/punkt.zip.\n",
            "[nltk_data] Downloading package wordnet to /root/nltk_data...\n"
          ]
        },
        {
          "output_type": "execute_result",
          "data": {
            "text/plain": [
              "True"
            ]
          },
          "metadata": {},
          "execution_count": 2
        }
      ]
    },
    {
      "cell_type": "code",
      "source": [
        "import os\n",
        "import tarfile"
      ],
      "metadata": {
        "id": "ovpVpfvPCa-Y"
      },
      "id": "ovpVpfvPCa-Y",
      "execution_count": 3,
      "outputs": []
    },
    {
      "cell_type": "code",
      "source": [],
      "metadata": {
        "id": "kGxV91URcpnE"
      },
      "id": "kGxV91URcpnE",
      "execution_count": null,
      "outputs": []
    },
    {
      "cell_type": "code",
      "source": [
        "# Extract the tar.gz file from Google Drive\n",
        "tar_path = '/content/drive/MyDrive/Senti/aclImdb_v1.tar.gz'\n",
        "extract_path = '/content/aclImdb'\n",
        "\n",
        "# Extract the dataset\n",
        "if not os.path.exists(extract_path):\n",
        "    with tarfile.open(tar_path, 'r:gz') as tar:\n",
        "        tar.extractall(path='/content')\n"
      ],
      "metadata": {
        "id": "6oDMU20-CgKn"
      },
      "id": "6oDMU20-CgKn",
      "execution_count": 4,
      "outputs": []
    },
    {
      "cell_type": "code",
      "source": [
        "import os\n",
        "import pandas as pd\n",
        "\n",
        "# Load Data Function\n",
        "def load_data_from_folder(folder):\n",
        "    data = []\n",
        "    labels = []\n",
        "    for label in ['pos', 'neg']:\n",
        "        label_folder = os.path.join(folder, label)\n",
        "        for filename in os.listdir(label_folder):\n",
        "            if filename.endswith('.txt'):\n",
        "                with open(os.path.join(label_folder, filename), 'r', encoding='utf-8') as f:\n",
        "                    data.append(f.read())\n",
        "                    labels.append(1 if label == 'pos' else 0)\n",
        "    return pd.DataFrame({'text': data, 'label': labels})\n",
        "\n",
        "# Load training and test data from the extracted folders\n",
        "train_data = load_data_from_folder('/content/aclImdb/train')\n",
        "test_data = load_data_from_folder('/content/aclImdb/test')\n"
      ],
      "metadata": {
        "id": "7zyPCF2YCqQR"
      },
      "id": "7zyPCF2YCqQR",
      "execution_count": 5,
      "outputs": []
    },
    {
      "cell_type": "code",
      "source": [
        "# Display a sample of positive reviews (label == 1)\n",
        "print(\"Positive reviews sample:\")\n",
        "print(train_data[train_data['label'] == 1].sample(5))  # Display 5 random positive reviews\n",
        "\n",
        "# Display a sample of negative reviews (label == 0)\n",
        "print(\"\\nNegative reviews sample:\")\n",
        "print(train_data[train_data['label'] == 0].sample(5))  # Display 5 random negative reviews\n"
      ],
      "metadata": {
        "colab": {
          "base_uri": "https://localhost:8080/"
        },
        "id": "7gB4bSw-CnAf",
        "outputId": "86b548c0-e793-49a9-c341-cadd5ba78db4"
      },
      "id": "7gB4bSw-CnAf",
      "execution_count": 6,
      "outputs": [
        {
          "output_type": "stream",
          "name": "stdout",
          "text": [
            "Positive reviews sample:\n",
            "                                                    text  label\n",
            "7895   I'm biased towards any movie that paints a lux...      1\n",
            "8074   More than just a \"kids' movie\", \"Holes\" looks ...      1\n",
            "4055   This cartoon is short on plot, but is a visual...      1\n",
            "5930   An interesting thriller that has Paul Winfield...      1\n",
            "11783  I went to see this movie expecting a nice rela...      1\n",
            "\n",
            "Negative reviews sample:\n",
            "                                                    text  label\n",
            "14466  Well...i was going to wait till this came out ...      0\n",
            "15405  The actors did a really good job playing their...      0\n",
            "13368  If you haven't seen ZOMBIE BLOODBATH, you have...      0\n",
            "20046  Alex D. Linz replaces Macaulay Culkin as the c...      0\n",
            "17411  OK.... I just have 3 words - cheesy, cheesy an...      0\n"
          ]
        }
      ]
    },
    {
      "cell_type": "code",
      "source": [
        "import matplotlib.pyplot as plt\n",
        "import seaborn as sns\n",
        "from wordcloud import WordCloud\n",
        "from collections import Counter\n"
      ],
      "metadata": {
        "id": "hZuDwWO1X9gf"
      },
      "id": "hZuDwWO1X9gf",
      "execution_count": 7,
      "outputs": []
    },
    {
      "cell_type": "code",
      "source": [
        "# Count plot for positive and negative reviews\n",
        "plt.figure(figsize=(8,6))\n",
        "sns.countplot(x='label', data=train_data)\n",
        "plt.title('Sentiment Distribution in Training Data')\n",
        "plt.xticks([0, 1], ['Negative', 'Positive'])\n",
        "plt.show()\n"
      ],
      "metadata": {
        "colab": {
          "base_uri": "https://localhost:8080/",
          "height": 564
        },
        "id": "Cl-guPjeYA6-",
        "outputId": "e4d6f71d-3218-439f-fffc-448bad0af754"
      },
      "id": "Cl-guPjeYA6-",
      "execution_count": 8,
      "outputs": [
        {
          "output_type": "display_data",
          "data": {
            "text/plain": [
              "<Figure size 800x600 with 1 Axes>"
            ],
            "image/png": "[encoded data removed]"
          },
          "metadata": {}
        }
      ]
    },
    {
      "cell_type": "code",
      "source": [
        "# Add a new column for the length of each review\n",
        "train_data['review_length'] = train_data['text'].apply(len)\n",
        "\n",
        "# Plot the review length distribution\n",
        "plt.figure(figsize=(10,6))\n",
        "sns.histplot(train_data['review_length'], bins=50, kde=True)\n",
        "plt.title('Review Length Distribution')\n",
        "plt.xlabel('Review Length')\n",
        "plt.ylabel('Frequency')\n",
        "plt.show()\n"
      ],
      "metadata": {
        "colab": {
          "base_uri": "https://localhost:8080/",
          "height": 564
        },
        "id": "wgg0UxdgYHPH",
        "outputId": "9a3ca9f9-1bdb-41c8-b193-e24c6c94c3ae"
      },
      "id": "wgg0UxdgYHPH",
      "execution_count": 9,
      "outputs": [
        {
          "output_type": "display_data",
          "data": {
            "text/plain": [
              "<Figure size 1000x600 with 1 Axes>"
            ],
            "image/png": "[encoded data removed]"
          },
          "metadata": {}
        }
      ]
    },
    {
      "cell_type": "code",
      "source": [
        "# Preprocess Text\n",
        "stop_words = set(stopwords.words('english'))\n",
        "lemmatizer = WordNetLemmatizer()"
      ],
      "metadata": {
        "id": "hE8KZ9iHDQM2"
      },
      "id": "hE8KZ9iHDQM2",
      "execution_count": 10,
      "outputs": []
    },
    {
      "cell_type": "code",
      "source": [
        "def preprocess_text(text):\n",
        "    text = text.lower()\n",
        "    text = text.translate(str.maketrans('', '', string.punctuation))\n",
        "    tokens = nltk.word_tokenize(text)\n",
        "    tokens = [lemmatizer.lemmatize(word) for word in tokens if word not in stop_words]\n",
        "    return ' '.join(tokens)"
      ],
      "metadata": {
        "id": "h53OvfozD773"
      },
      "id": "h53OvfozD773",
      "execution_count": 11,
      "outputs": []
    },
    {
      "cell_type": "code",
      "source": [
        "train_data['clean_text'] = train_data['text'].apply(preprocess_text)\n",
        "test_data['clean_text'] = test_data['text'].apply(preprocess_text)"
      ],
      "metadata": {
        "id": "4ETSvzqbEA7-"
      },
      "id": "4ETSvzqbEA7-",
      "execution_count": 12,
      "outputs": []
    },
    {
      "cell_type": "code",
      "source": [
        "# Print the first 5 samples from the train_data\n",
        "print(train_data[['text', 'clean_text']].head())\n",
        "\n",
        "# Print the first 5 samples from the test_data\n",
        "print(test_data[['text', 'clean_text']].head())\n"
      ],
      "metadata": {
        "colab": {
          "base_uri": "https://localhost:8080/"
        },
        "id": "snWXzysGELy_",
        "outputId": "2a915329-0148-4262-f734-c2dc370ba392"
      },
      "id": "snWXzysGELy_",
      "execution_count": 14,
      "outputs": [
        {
          "output_type": "stream",
          "name": "stdout",
          "text": [
            "                                                text  \\\n",
            "0  In the classic sense of the four humors (which...   \n",
            "1  What is most disturbing about this film is not...   \n",
            "2  My son was 7 years old when he saw this movie,...   \n",
            "3  Thankfully as a student I have been able to wa...   \n",
            "4  I was one of about 200 people that was lucky e...   \n",
            "\n",
            "                                          clean_text  \n",
            "0  classic sense four humor specific concept funn...  \n",
            "1  disturbing film school killing spree like one ...  \n",
            "2  son 7 year old saw movie russian fishing vesse...  \n",
            "3  thankfully student able watch diagnosis murder...  \n",
            "4  one 200 people lucky enough see early sneak fi...  \n",
            "                                                text  \\\n",
            "0  NOROI follows a documentary filmmaker, Masafum...   \n",
            "1  A twist of fate puts a black man at the head o...   \n",
            "2  Like those who listened to radio reports about...   \n",
            "3  This story about a man's 28 year struggle for ...   \n",
            "4  House of Dracula was made towards the end of U...   \n",
            "\n",
            "                                          clean_text  \n",
            "0  noroi follows documentary filmmaker masafumi k...  \n",
            "1  twist fate put black man head oldschool whiteb...  \n",
            "2  like listened radio report attack pearl harbor...  \n",
            "3  story man 28 year struggle death would liberat...  \n",
            "4  house dracula made towards end universal horro...  \n"
          ]
        }
      ]
    },
    {
      "cell_type": "code",
      "source": [
        "MAX_NB_WORDS = 10000  # Maximum number of words in the tokenizer\n",
        "MAX_SEQUENCE_LENGTH = 200  # Maximum sequence length for padding\n"
      ],
      "metadata": {
        "id": "-ciAac1nFLKE"
      },
      "id": "-ciAac1nFLKE",
      "execution_count": 13,
      "outputs": []
    },
    {
      "cell_type": "code",
      "source": [
        "from tensorflow.keras.preprocessing.text import Tokenizer"
      ],
      "metadata": {
        "id": "hRIdgvALJh7c"
      },
      "id": "hRIdgvALJh7c",
      "execution_count": 17,
      "outputs": []
    },
    {
      "cell_type": "code",
      "source": [
        "\n",
        "\n",
        "# Initialize tokenizer\n",
        "tokenizer = Tokenizer(num_words=MAX_NB_WORDS)\n",
        "\n",
        "# Fit tokenizer on training data\n",
        "tokenizer.fit_on_texts(train_data['clean_text'])\n"
      ],
      "metadata": {
        "id": "Pcj-7uIsJUW4"
      },
      "id": "Pcj-7uIsJUW4",
      "execution_count": 15,
      "outputs": []
    },
    {
      "cell_type": "code",
      "source": [
        "# Convert texts to sequences for train and test data\n",
        "X_train = tokenizer.texts_to_sequences(train_data['clean_text'])\n",
        "X_test = tokenizer.texts_to_sequences(test_data['clean_text'])\n",
        "\n",
        "# Pad sequences to ensure all have the same length\n",
        "X_train = pad_sequences(X_train, maxlen=MAX_SEQUENCE_LENGTH)\n",
        "X_test = pad_sequences(X_test, maxlen=MAX_SEQUENCE_LENGTH)\n"
      ],
      "metadata": {
        "id": "zQiOzfZqJYk8"
      },
      "id": "zQiOzfZqJYk8",
      "execution_count": 16,
      "outputs": []
    },
    {
      "cell_type": "code",
      "source": [
        "# Extract the labels from the dataset\n",
        "y_train = train_data['label'].values\n",
        "y_test = test_data['label'].values\n"
      ],
      "metadata": {
        "id": "Zkc9YM6DJs40"
      },
      "id": "Zkc9YM6DJs40",
      "execution_count": 18,
      "outputs": []
    },
    {
      "cell_type": "code",
      "source": [
        "# Print sample of tokenized and padded sequences for training data\n",
        "print(\"Sample padded sequence from X_train:\\n\", X_train[0])  # First padded sequence\n",
        "print(\"\\nOriginal cleaned text for comparison:\\n\", train_data['clean_text'].iloc[0])\n"
      ],
      "metadata": {
        "colab": {
          "base_uri": "https://localhost:8080/"
        },
        "id": "Y47D-K9iJunD",
        "outputId": "98f2a19f-ea74-4651-b3b7-e935868576cc"
      },
      "id": "Y47D-K9iJunD",
      "execution_count": 19,
      "outputs": [
        {
          "output_type": "stream",
          "name": "stdout",
          "text": [
            "Sample padded sequence from X_train:\n",
            " [   0    0    0    0    0    0    0    0    0    0    0    0    0    0\n",
            "    0    0    0    0    0    0    0    0    0    0    0    0    0    0\n",
            "    0    0    0    0    0    0    0    0    0    0    0    0    0    0\n",
            "    0    0    0    0    0    0    0    0    0    0    0    0    0    0\n",
            "    0    0    0    0    0    0    0    0    0    0    0    0    0    0\n",
            "    0    0    0    0    0    0    0    0    0    0    0    0    0    0\n",
            "    0    0    0    0    0    0    0    0    0    0    0    0    0    0\n",
            "    0    0    0    0    0  226  190  593  386 2848  891   81   10  609\n",
            " 7814 3047 1223  386   75   81  355   25  127 5583  499 9133 7685    8\n",
            " 4808  698 1659   32  612  873 8103  732  390  758  127  577  756    5\n",
            " 2879  820  274    5 6780 3398   98 1892 2806 7192 7944 1426 6867 1638\n",
            " 2889 2880   10   35  158  718 1235 6242    8 2983 3399 2553 3702  689\n",
            " 1215   87  127    8 1158 6415  463 4978 2984 5017 2113 7193    8   57\n",
            "  136 2589 2630 3129 1306  386 3047  136   87 2849 6069 3047   42  137\n",
            " 3047 5294  226   48]\n",
            "\n",
            "Original cleaned text for comparison:\n",
            " classic sense four humor specific concept funny even entertainment altmans health treat humor actually funny entertaining way there phlegm personified lauren bacalls slow guarded protective character esther brill who mission life appears appearance protecting secret age beauty wellbeing there paul dooleys choleric dr gil gainey like fish water perhaps like seal flop around frenetically barking exhorting crowd subscribe aquatic madness melancholy glenda jackson isabella garnell smack shakespeare troubled selfrighteous hamlet even proffering soliloquy two let forget henry gibson bile character bobby hammer breast feed baby rule world there character harry wolff gloria burbank james garner carol burnett respectively relatively sane character striving find kind balance amongst companion extreme humor convened health kind world trade organization specializing health say anything health altman classic best\n"
          ]
        }
      ]
    },
    {
      "cell_type": "code",
      "source": [
        "# Print first few labels from the training data\n",
        "print(\"Sample labels from y_train:\", y_train[:5])\n"
      ],
      "metadata": {
        "colab": {
          "base_uri": "https://localhost:8080/"
        },
        "id": "y0U8a0sPJ0ed",
        "outputId": "0ca2e401-705b-4570-b201-952ca2400c3f"
      },
      "id": "y0U8a0sPJ0ed",
      "execution_count": 20,
      "outputs": [
        {
          "output_type": "stream",
          "name": "stdout",
          "text": [
            "Sample labels from y_train: [1 1 1 1 1]\n"
          ]
        }
      ]
    },
    {
      "cell_type": "code",
      "source": [
        "# KFold Cross Validation\n",
        "kf = KFold(n_splits=5, shuffle=True, random_state=42)"
      ],
      "metadata": {
        "id": "_wyH_WL1KBq8"
      },
      "id": "_wyH_WL1KBq8",
      "execution_count": 21,
      "outputs": []
    },
    {
      "cell_type": "code",
      "source": [
        "fold_accuracies = []\n",
        "\n",
        "for train_index, val_index in kf.split(X_train):\n",
        "    # Split into training and validation sets for the fold\n",
        "    X_fold_train, X_fold_val = X_train[train_index], X_train[val_index]\n",
        "    y_fold_train, y_fold_val = y_train[train_index], y_train[val_index]\n",
        "\n",
        "    # Build the ANN Model\n",
        "    model = Sequential()\n",
        "    model.add(Embedding(input_dim=MAX_NB_WORDS, output_dim=128, input_length=MAX_SEQUENCE_LENGTH))\n",
        "    model.add(LSTM(128, return_sequences=True))\n",
        "    model.add(GlobalMaxPooling1D())\n",
        "    model.add(Dropout(0.5))\n",
        "    model.add(Dense(64, activation='relu'))\n",
        "    model.add(Dropout(0.5))\n",
        "    model.add(Dense(1, activation='sigmoid'))  # Single output for binary classification\n",
        "\n",
        "    # Compile the model\n",
        "    optimizer = Adam(learning_rate=0.001)  # Adjust learning rate\n",
        "    model.compile(loss='binary_crossentropy', optimizer=optimizer, metrics=['accuracy'])\n",
        "\n",
        "    # Define callbacks\n",
        "    early_stopping = EarlyStopping(monitor='val_loss', patience=3, restore_best_weights=True)\n",
        "    reduce_lr = ReduceLROnPlateau(monitor='val_loss', factor=0.5, patience=2, min_lr=0.00001)\n",
        "\n",
        "    # Train the model\n",
        "    history = model.fit(X_fold_train, y_fold_train,\n",
        "                        epochs=10, batch_size=64,\n",
        "                        validation_data=(X_fold_val, y_fold_val),\n",
        "                        callbacks=[early_stopping, reduce_lr])\n",
        "\n",
        "        # Evaluate the model on validation data\n",
        "    y_fold_pred = (model.predict(X_fold_val) > 0.5).astype(\"int32\")  # Predict and threshold to 0/1\n",
        "    fold_accuracy = accuracy_score(y_fold_val, y_fold_pred)\n",
        "    fold_accuracies.append(fold_accuracy)\n",
        "\n",
        "    # Print the accuracy for this fold\n",
        "    print(f'Fold Accuracy: {fold_accuracy:.4f}')\n",
        "\n"
      ],
      "metadata": {
        "colab": {
          "base_uri": "https://localhost:8080/"
        },
        "id": "zuLtD3tsKoT0",
        "outputId": "0b3e5e1c-cfd9-4e05-bff8-d7f7ab7709fe"
      },
      "id": "zuLtD3tsKoT0",
      "execution_count": 24,
      "outputs": [
        {
          "output_type": "stream",
          "name": "stdout",
          "text": [
            "Epoch 1/10\n",
            "\u001b[1m313/313\u001b[0m \u001b[32m━━━━━━━━━━━━━━━━━━━━\u001b[0m\u001b[37m\u001b[0m \u001b[1m9s\u001b[0m 17ms/step - accuracy: 0.6234 - loss: 0.6077 - val_accuracy: 0.8662 - val_loss: 0.3149 - learning_rate: 0.0010\n",
            "Epoch 2/10\n",
            "\u001b[1m313/313\u001b[0m \u001b[32m━━━━━━━━━━━━━━━━━━━━\u001b[0m\u001b[37m\u001b[0m \u001b[1m9s\u001b[0m 14ms/step - accuracy: 0.9082 - loss: 0.2488 - val_accuracy: 0.8834 - val_loss: 0.2879 - learning_rate: 0.0010\n",
            "Epoch 3/10\n",
            "\u001b[1m313/313\u001b[0m \u001b[32m━━━━━━━━━━━━━━━━━━━━\u001b[0m\u001b[37m\u001b[0m \u001b[1m5s\u001b[0m 14ms/step - accuracy: 0.9468 - loss: 0.1601 - val_accuracy: 0.8712 - val_loss: 0.3510 - learning_rate: 0.0010\n",
            "Epoch 4/10\n",
            "\u001b[1m313/313\u001b[0m \u001b[32m━━━━━━━━━━━━━━━━━━━━\u001b[0m\u001b[37m\u001b[0m \u001b[1m5s\u001b[0m 17ms/step - accuracy: 0.9667 - loss: 0.0993 - val_accuracy: 0.8732 - val_loss: 0.3832 - learning_rate: 0.0010\n",
            "Epoch 5/10\n",
            "\u001b[1m313/313\u001b[0m \u001b[32m━━━━━━━━━━━━━━━━━━━━\u001b[0m\u001b[37m\u001b[0m \u001b[1m5s\u001b[0m 15ms/step - accuracy: 0.9834 - loss: 0.0568 - val_accuracy: 0.8692 - val_loss: 0.4999 - learning_rate: 5.0000e-04\n",
            "\u001b[1m157/157\u001b[0m \u001b[32m━━━━━━━━━━━━━━━━━━━━\u001b[0m\u001b[37m\u001b[0m \u001b[1m1s\u001b[0m 4ms/step\n",
            "Fold Accuracy: 0.8834\n",
            "Epoch 1/10\n"
          ]
        },
        {
          "output_type": "stream",
          "name": "stderr",
          "text": [
            "/usr/local/lib/python3.10/dist-packages/keras/src/layers/core/embedding.py:90: UserWarning: Argument `input_length` is deprecated. Just remove it.\n",
            "  warnings.warn(\n"
          ]
        },
        {
          "output_type": "stream",
          "name": "stdout",
          "text": [
            "\u001b[1m313/313\u001b[0m \u001b[32m━━━━━━━━━━━━━━━━━━━━\u001b[0m\u001b[37m\u001b[0m \u001b[1m8s\u001b[0m 19ms/step - accuracy: 0.6592 - loss: 0.5753 - val_accuracy: 0.8616 - val_loss: 0.3214 - learning_rate: 0.0010\n",
            "Epoch 2/10\n",
            "\u001b[1m313/313\u001b[0m \u001b[32m━━━━━━━━━━━━━━━━━━━━\u001b[0m\u001b[37m\u001b[0m \u001b[1m4s\u001b[0m 14ms/step - accuracy: 0.9191 - loss: 0.2287 - val_accuracy: 0.8652 - val_loss: 0.3228 - learning_rate: 0.0010\n",
            "Epoch 3/10\n",
            "\u001b[1m313/313\u001b[0m \u001b[32m━━━━━━━━━━━━━━━━━━━━\u001b[0m\u001b[37m\u001b[0m \u001b[1m4s\u001b[0m 14ms/step - accuracy: 0.9497 - loss: 0.1521 - val_accuracy: 0.8656 - val_loss: 0.3328 - learning_rate: 0.0010\n",
            "Epoch 4/10\n",
            "\u001b[1m313/313\u001b[0m \u001b[32m━━━━━━━━━━━━━━━━━━━━\u001b[0m\u001b[37m\u001b[0m \u001b[1m6s\u001b[0m 17ms/step - accuracy: 0.9724 - loss: 0.0914 - val_accuracy: 0.8596 - val_loss: 0.5148 - learning_rate: 5.0000e-04\n",
            "\u001b[1m157/157\u001b[0m \u001b[32m━━━━━━━━━━━━━━━━━━━━\u001b[0m\u001b[37m\u001b[0m \u001b[1m1s\u001b[0m 5ms/step\n",
            "Fold Accuracy: 0.8616\n",
            "Epoch 1/10\n"
          ]
        },
        {
          "output_type": "stream",
          "name": "stderr",
          "text": [
            "/usr/local/lib/python3.10/dist-packages/keras/src/layers/core/embedding.py:90: UserWarning: Argument `input_length` is deprecated. Just remove it.\n",
            "  warnings.warn(\n"
          ]
        },
        {
          "output_type": "stream",
          "name": "stdout",
          "text": [
            "\u001b[1m313/313\u001b[0m \u001b[32m━━━━━━━━━━━━━━━━━━━━\u001b[0m\u001b[37m\u001b[0m \u001b[1m7s\u001b[0m 18ms/step - accuracy: 0.6307 - loss: 0.6154 - val_accuracy: 0.8620 - val_loss: 0.3328 - learning_rate: 0.0010\n",
            "Epoch 2/10\n",
            "\u001b[1m313/313\u001b[0m \u001b[32m━━━━━━━━━━━━━━━━━━━━\u001b[0m\u001b[37m\u001b[0m \u001b[1m4s\u001b[0m 14ms/step - accuracy: 0.9044 - loss: 0.2621 - val_accuracy: 0.8732 - val_loss: 0.3079 - learning_rate: 0.0010\n",
            "Epoch 3/10\n",
            "\u001b[1m313/313\u001b[0m \u001b[32m━━━━━━━━━━━━━━━━━━━━\u001b[0m\u001b[37m\u001b[0m \u001b[1m4s\u001b[0m 14ms/step - accuracy: 0.9479 - loss: 0.1523 - val_accuracy: 0.8638 - val_loss: 0.3382 - learning_rate: 0.0010\n",
            "Epoch 4/10\n",
            "\u001b[1m313/313\u001b[0m \u001b[32m━━━━━━━━━━━━━━━━━━━━\u001b[0m\u001b[37m\u001b[0m \u001b[1m6s\u001b[0m 18ms/step - accuracy: 0.9634 - loss: 0.1090 - val_accuracy: 0.8604 - val_loss: 0.4186 - learning_rate: 0.0010\n",
            "Epoch 5/10\n",
            "\u001b[1m313/313\u001b[0m \u001b[32m━━━━━━━━━━━━━━━━━━━━\u001b[0m\u001b[37m\u001b[0m \u001b[1m9s\u001b[0m 15ms/step - accuracy: 0.9816 - loss: 0.0631 - val_accuracy: 0.8616 - val_loss: 0.4953 - learning_rate: 5.0000e-04\n",
            "\u001b[1m157/157\u001b[0m \u001b[32m━━━━━━━━━━━━━━━━━━━━\u001b[0m\u001b[37m\u001b[0m \u001b[1m1s\u001b[0m 6ms/step\n",
            "Fold Accuracy: 0.8732\n",
            "Epoch 1/10\n"
          ]
        },
        {
          "output_type": "stream",
          "name": "stderr",
          "text": [
            "/usr/local/lib/python3.10/dist-packages/keras/src/layers/core/embedding.py:90: UserWarning: Argument `input_length` is deprecated. Just remove it.\n",
            "  warnings.warn(\n"
          ]
        },
        {
          "output_type": "stream",
          "name": "stdout",
          "text": [
            "\u001b[1m313/313\u001b[0m \u001b[32m━━━━━━━━━━━━━━━━━━━━\u001b[0m\u001b[37m\u001b[0m \u001b[1m7s\u001b[0m 15ms/step - accuracy: 0.6434 - loss: 0.5859 - val_accuracy: 0.8672 - val_loss: 0.3103 - learning_rate: 0.0010\n",
            "Epoch 2/10\n",
            "\u001b[1m313/313\u001b[0m \u001b[32m━━━━━━━━━━━━━━━━━━━━\u001b[0m\u001b[37m\u001b[0m \u001b[1m4s\u001b[0m 14ms/step - accuracy: 0.9108 - loss: 0.2453 - val_accuracy: 0.8780 - val_loss: 0.3148 - learning_rate: 0.0010\n",
            "Epoch 3/10\n",
            "\u001b[1m313/313\u001b[0m \u001b[32m━━━━━━━━━━━━━━━━━━━━\u001b[0m\u001b[37m\u001b[0m \u001b[1m5s\u001b[0m 17ms/step - accuracy: 0.9472 - loss: 0.1546 - val_accuracy: 0.8582 - val_loss: 0.3770 - learning_rate: 0.0010\n",
            "Epoch 4/10\n",
            "\u001b[1m313/313\u001b[0m \u001b[32m━━━━━━━━━━━━━━━━━━━━\u001b[0m\u001b[37m\u001b[0m \u001b[1m5s\u001b[0m 14ms/step - accuracy: 0.9713 - loss: 0.0877 - val_accuracy: 0.8684 - val_loss: 0.4216 - learning_rate: 5.0000e-04\n",
            "\u001b[1m157/157\u001b[0m \u001b[32m━━━━━━━━━━━━━━━━━━━━\u001b[0m\u001b[37m\u001b[0m \u001b[1m1s\u001b[0m 4ms/step\n",
            "Fold Accuracy: 0.8672\n",
            "Epoch 1/10\n"
          ]
        },
        {
          "output_type": "stream",
          "name": "stderr",
          "text": [
            "/usr/local/lib/python3.10/dist-packages/keras/src/layers/core/embedding.py:90: UserWarning: Argument `input_length` is deprecated. Just remove it.\n",
            "  warnings.warn(\n"
          ]
        },
        {
          "output_type": "stream",
          "name": "stdout",
          "text": [
            "\u001b[1m313/313\u001b[0m \u001b[32m━━━━━━━━━━━━━━━━━━━━\u001b[0m\u001b[37m\u001b[0m \u001b[1m8s\u001b[0m 19ms/step - accuracy: 0.6246 - loss: 0.6144 - val_accuracy: 0.8724 - val_loss: 0.3077 - learning_rate: 0.0010\n",
            "Epoch 2/10\n",
            "\u001b[1m313/313\u001b[0m \u001b[32m━━━━━━━━━━━━━━━━━━━━\u001b[0m\u001b[37m\u001b[0m \u001b[1m4s\u001b[0m 14ms/step - accuracy: 0.9031 - loss: 0.2593 - val_accuracy: 0.8802 - val_loss: 0.3020 - learning_rate: 0.0010\n",
            "Epoch 3/10\n",
            "\u001b[1m313/313\u001b[0m \u001b[32m━━━━━━━━━━━━━━━━━━━━\u001b[0m\u001b[37m\u001b[0m \u001b[1m5s\u001b[0m 14ms/step - accuracy: 0.9471 - loss: 0.1573 - val_accuracy: 0.8766 - val_loss: 0.3093 - learning_rate: 0.0010\n",
            "Epoch 4/10\n",
            "\u001b[1m313/313\u001b[0m \u001b[32m━━━━━━━━━━━━━━━━━━━━\u001b[0m\u001b[37m\u001b[0m \u001b[1m6s\u001b[0m 17ms/step - accuracy: 0.9686 - loss: 0.1015 - val_accuracy: 0.8752 - val_loss: 0.3915 - learning_rate: 0.0010\n",
            "Epoch 5/10\n",
            "\u001b[1m313/313\u001b[0m \u001b[32m━━━━━━━━━━━━━━━━━━━━\u001b[0m\u001b[37m\u001b[0m \u001b[1m4s\u001b[0m 14ms/step - accuracy: 0.9865 - loss: 0.0516 - val_accuracy: 0.8686 - val_loss: 0.5040 - learning_rate: 5.0000e-04\n",
            "\u001b[1m157/157\u001b[0m \u001b[32m━━━━━━━━━━━━━━━━━━━━\u001b[0m\u001b[37m\u001b[0m \u001b[1m1s\u001b[0m 4ms/step\n",
            "Fold Accuracy: 0.8802\n"
          ]
        }
      ]
    },
    {
      "cell_type": "code",
      "source": [
        "# Average Accuracy\n",
        "print(f'Average Accuracy across folds: {np.mean(fold_accuracies):.4f}')\n",
        "\n",
        "# Final Evaluation on Test Data\n",
        "final_model = model  # Optionally, you could retrain on the full dataset before this\n",
        "y_test_pred = (final_model.predict(X_test) > 0.5).astype(\"int32\")\n",
        "\n",
        "# Print Accuracy and Classification Report for Test Data\n",
        "print(f'Final Test Accuracy: {accuracy_score(y_test, y_test_pred):.4f}')\n",
        "print(classification_report(y_test, y_test_pred, target_names=['Negative', 'Positive']))\n",
        "\n"
      ],
      "metadata": {
        "colab": {
          "base_uri": "https://localhost:8080/"
        },
        "id": "MpRK1HRESMW_",
        "outputId": "bc966d2a-09c9-4f16-b1fe-5a23fcb1ec8d"
      },
      "id": "MpRK1HRESMW_",
      "execution_count": 25,
      "outputs": [
        {
          "output_type": "stream",
          "name": "stdout",
          "text": [
            "Average Accuracy across folds: 0.8731\n",
            "\u001b[1m782/782\u001b[0m \u001b[32m━━━━━━━━━━━━━━━━━━━━\u001b[0m\u001b[37m\u001b[0m \u001b[1m4s\u001b[0m 6ms/step\n",
            "Final Test Accuracy: 0.8582\n",
            "              precision    recall  f1-score   support\n",
            "\n",
            "    Negative       0.84      0.89      0.86     12500\n",
            "    Positive       0.88      0.83      0.85     12500\n",
            "\n",
            "    accuracy                           0.86     25000\n",
            "   macro avg       0.86      0.86      0.86     25000\n",
            "weighted avg       0.86      0.86      0.86     25000\n",
            "\n"
          ]
        }
      ]
    },
    {
      "cell_type": "code",
      "source": [
        "import matplotlib.pyplot as plt\n",
        "\n",
        "# Plot training & validation accuracy values\n",
        "def plot_training_history(history):\n",
        "    # Accuracy Plot\n",
        "    plt.figure(figsize=(12, 6))\n",
        "\n",
        "    # Plot Accuracy\n",
        "    plt.subplot(1, 2, 1)\n",
        "    plt.plot(history.history['accuracy'], label='Training Accuracy')\n",
        "    plt.plot(history.history['val_accuracy'], label='Validation Accuracy')\n",
        "    plt.title('Model Accuracy Over Epochs')\n",
        "    plt.ylabel('Accuracy')\n",
        "    plt.xlabel('Epoch')\n",
        "    plt.legend(loc='upper left')\n",
        "\n",
        "    # Plot Loss\n",
        "    plt.subplot(1, 2, 2)\n",
        "    plt.plot(history.history['loss'], label='Training Loss')\n",
        "    plt.plot(history.history['val_loss'], label='Validation Loss')\n",
        "    plt.title('Model Loss Over Epochs')\n",
        "    plt.ylabel('Loss')\n",
        "    plt.xlabel('Epoch')\n",
        "    plt.legend(loc='upper left')\n",
        "\n",
        "    plt.tight_layout()\n",
        "    plt.show()\n",
        "\n",
        "# Call the function with your history object (from model.fit)\n",
        "plot_training_history(history)\n"
      ],
      "metadata": {
        "colab": {
          "base_uri": "https://localhost:8080/",
          "height": 484
        },
        "id": "NWlnMuw2TMeP",
        "outputId": "51c79300-e63c-40a9-e844-8d03c04ecbf2"
      },
      "id": "NWlnMuw2TMeP",
      "execution_count": 26,
      "outputs": [
        {
          "output_type": "display_data",
          "data": {
            "text/plain": [
              "<Figure size 1200x600 with 2 Axes>"
            ],
            "image/png": "[encoded data removed]"
          },
          "metadata": {}
        }
      ]
    },
    {
      "cell_type": "code",
      "source": [
        "# Save the model to an .h5 file\n",
        "model.save('sentiment_analysis_model.keras')\n"
      ],
      "metadata": {
        "id": "iTcEHPwFTVz-"
      },
      "id": "iTcEHPwFTVz-",
      "execution_count": 27,
      "outputs": []
    },
    {
      "cell_type": "code",
      "source": [
        "from keras.models import load_model\n",
        "\n",
        "# Load the model\n",
        "loaded_model = load_model('sentiment_analysis_model.keras')\n"
      ],
      "metadata": {
        "id": "8yiOU3EWTr7-"
      },
      "id": "8yiOU3EWTr7-",
      "execution_count": 30,
      "outputs": []
    },
    {
      "cell_type": "code",
      "source": [
        "import string\n",
        "import nltk\n",
        "from nltk.corpus import stopwords\n",
        "from keras.preprocessing.sequence import pad_sequences\n",
        "\n",
        "# Ensure stopwords are downloaded\n",
        "nltk.download('stopwords')\n",
        "nltk.download('punkt')\n",
        "nltk.download('wordnet')\n",
        "\n",
        "# Preprocess the text (same preprocessing function used earlier)\n",
        "def preprocess_text(text):\n",
        "    stop_words = set(stopwords.words('english'))\n",
        "    lemmatizer = nltk.WordNetLemmatizer()\n",
        "\n",
        "    text = text.lower()\n",
        "    text = text.translate(str.maketrans('', '', string.punctuation))  # Remove punctuation\n",
        "    tokens = nltk.word_tokenize(text)  # Tokenize words\n",
        "    tokens = [lemmatizer.lemmatize(word) for word in tokens if word not in stop_words]  # Lemmatize and remove stopwords\n",
        "    return ' '.join(tokens)\n",
        "\n",
        "# Tokenizer was fit on the training data, use it for your custom input\n",
        "def prepare_input_for_model(text, tokenizer, max_sequence_length=200):\n",
        "    processed_text = preprocess_text(text)  # Preprocess the input\n",
        "    sequences = tokenizer.texts_to_sequences([processed_text])  # Tokenize the input\n",
        "    padded_sequences = pad_sequences(sequences, maxlen=max_sequence_length)  # Pad sequences\n",
        "    return padded_sequences\n"
      ],
      "metadata": {
        "colab": {
          "base_uri": "https://localhost:8080/"
        },
        "id": "4pkwB7QFT05u",
        "outputId": "76b16a4a-61b6-4cb3-a095-9a630c394c9e"
      },
      "id": "4pkwB7QFT05u",
      "execution_count": 31,
      "outputs": [
        {
          "output_type": "stream",
          "name": "stderr",
          "text": [
            "[nltk_data] Downloading package stopwords to /root/nltk_data...\n",
            "[nltk_data]   Package stopwords is already up-to-date!\n",
            "[nltk_data] Downloading package punkt to /root/nltk_data...\n",
            "[nltk_data]   Package punkt is already up-to-date!\n",
            "[nltk_data] Downloading package wordnet to /root/nltk_data...\n",
            "[nltk_data]   Package wordnet is already up-to-date!\n"
          ]
        }
      ]
    },
    {
      "cell_type": "code",
      "source": [
        "# Sample review (positive or negative)\n",
        "sample_review = \"The characters were one-dimensional and unlikeable.\"\n",
        "\n",
        "# Preprocess and prepare the sample review\n",
        "sample_input = prepare_input_for_model(sample_review, tokenizer)\n",
        "\n",
        "# Predict the sentiment (probability of being positive)\n",
        "prediction = loaded_model.predict(sample_input)\n",
        "\n",
        "# Convert the prediction to positive or negative (threshold at 0.5)\n",
        "sentiment = \"Positive\" if prediction > 0.5 else \"Negative\"\n",
        "print(f\"The sentiment of the review is: {sentiment}\")\n"
      ],
      "metadata": {
        "colab": {
          "base_uri": "https://localhost:8080/"
        },
        "id": "0kS5s97BT3Q-",
        "outputId": "40b2fbb5-9b8b-4e0e-931e-930214b5271a"
      },
      "id": "0kS5s97BT3Q-",
      "execution_count": 32,
      "outputs": [
        {
          "output_type": "stream",
          "name": "stdout",
          "text": [
            "\u001b[1m1/1\u001b[0m \u001b[32m━━━━━━━━━━━━━━━━━━━━\u001b[0m\u001b[37m\u001b[0m \u001b[1m0s\u001b[0m 107ms/step\n",
            "The sentiment of the review is: Negative\n"
          ]
        }
      ]
    },
    {
      "cell_type": "code",
      "source": [
        "# Sample review (positive or negative)\n",
        "sample_review = \"This movie was a masterpiece!\"\n",
        "\n",
        "# Check if the sample review is longer than 100 characters\n",
        "if len(sample_review) > 50:\n",
        "    # Preprocess and prepare the sample review\n",
        "    sample_input = prepare_input_for_model(sample_review, tokenizer)\n",
        "\n",
        "    # Predict the sentiment (probability of being positive)\n",
        "    prediction = loaded_model.predict(sample_input)\n",
        "\n",
        "    # Convert the prediction to positive or negative (threshold at 0.5)\n",
        "    sentiment = \"Positive\" if prediction > 0.5 else \"Negative\"\n",
        "    print(f\"The sentiment of the review is: {sentiment}\")\n",
        "else:\n",
        "    print(\"The review is not long enough. Please provide a review with more than 100 characters.\")\n"
      ],
      "metadata": {
        "colab": {
          "base_uri": "https://localhost:8080/"
        },
        "id": "YBE13_XJWe4Q",
        "outputId": "093538aa-9c31-400f-c4bd-e813ab077a1b"
      },
      "id": "YBE13_XJWe4Q",
      "execution_count": 33,
      "outputs": [
        {
          "output_type": "stream",
          "name": "stdout",
          "text": [
            "The review is not long enough. Please provide a review with more than 100 characters.\n"
          ]
        }
      ]
    },
    {
      "cell_type": "code",
      "execution_count": null,
      "id": "5cd8c1d7-7741-4458-92ea-528138ee5fc2",
      "metadata": {
        "id": "5cd8c1d7-7741-4458-92ea-528138ee5fc2"
      },
      "outputs": [],
      "source": []
    }
  ],
  "metadata": {
    "kernelspec": {
      "display_name": "Python 3",
      "name": "python3"
    },
    "language_info": {
      "codemirror_mode": {
        "name": "ipython",
        "version": 3
      },
      "file_extension": ".py",
      "mimetype": "text/x-python",
      "name": "python",
      "nbconvert_exporter": "python",
      "pygments_lexer": "ipython3",
      "version": "3.11.1"
    },
    "colab": {
      "provenance": [],
      "gpuType": "T4"
    },
    "accelerator": "GPU"
  },
  "nbformat": 4,
  "nbformat_minor": 5
}